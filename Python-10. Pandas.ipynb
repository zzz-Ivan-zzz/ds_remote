{
 "cells": [
  {
   "cell_type": "markdown",
   "metadata": {},
   "source": [
    "# Series"
   ]
  },
  {
   "cell_type": "code",
   "execution_count": 16,
   "metadata": {},
   "outputs": [
    {
     "data": {
      "text/plain": [
       "CA    Канада\n",
       "US       США\n",
       "Name: countries, dtype: object"
      ]
     },
     "execution_count": 16,
     "metadata": {},
     "output_type": "execute_result"
    }
   ],
   "source": [
    "import pandas as pd\n",
    "\n",
    "countries = pd.Series( # создание напрямую\n",
    "    data = ['Англия', 'Канада', 'США'],\n",
    "    index = ['UK', 'CA', 'US'],\n",
    "    name = 'countries'\n",
    "    )\n",
    "#display(countries) # используется для вывода таблиц в ноутбуках\n",
    "\n",
    "countries2 = pd.Series({ # создание из словаря\n",
    "    'RU': 'Россия',\n",
    "    'UA': 'Украина',\n",
    "    'KZ': 'Казахстан'},\n",
    "    name = 'countries2'\n",
    "    )\n",
    "#display(countries2)\n",
    "\n",
    "countries.loc['US'] # возвращается строка\n",
    "countries.loc[['US', 'UK']] # возвращается объект типа series, метки нужно обернуть в список\n",
    "countries.iloc[1:3] # iloc позволяет обращаться по индексам"
   ]
  },
  {
   "cell_type": "code",
   "execution_count": 30,
   "metadata": {},
   "outputs": [
    {
     "data": {
      "text/plain": [
       "37.5"
      ]
     },
     "execution_count": 30,
     "metadata": {},
     "output_type": "execute_result"
    }
   ],
   "source": [
    "# задание\n",
    "\n",
    "import pandas as pd\n",
    "\n",
    "names=['chlorhexidine', 'cyntomycin', 'afobazol']\n",
    "counts=[15, 18, 7]\n",
    "\n",
    "def create_medications(names, counts):\n",
    "    return pd.Series(dict(zip(names, counts)))\n",
    "\n",
    "medications = create_medications(names, counts)\n",
    "\n",
    "def get_percent(medications, name):\n",
    "    return medications.loc[name] / medications.sum()*100\n",
    "\n",
    "get_percent(medications,'chlorhexidine')\n",
    "    "
   ]
  },
  {
   "cell_type": "markdown",
   "metadata": {},
   "source": [
    "# Dataframe"
   ]
  },
  {
   "cell_type": "code",
   "execution_count": 4,
   "metadata": {},
   "outputs": [
    {
     "data": {
      "text/html": [
       "<div>\n",
       "<style scoped>\n",
       "    .dataframe tbody tr th:only-of-type {\n",
       "        vertical-align: middle;\n",
       "    }\n",
       "\n",
       "    .dataframe tbody tr th {\n",
       "        vertical-align: top;\n",
       "    }\n",
       "\n",
       "    .dataframe thead th {\n",
       "        text-align: right;\n",
       "    }\n",
       "</style>\n",
       "<table border=\"1\" class=\"dataframe\">\n",
       "  <thead>\n",
       "    <tr style=\"text-align: right;\">\n",
       "      <th></th>\n",
       "      <th>population</th>\n",
       "      <th>square</th>\n",
       "    </tr>\n",
       "  </thead>\n",
       "  <tbody>\n",
       "    <tr>\n",
       "      <th>UA</th>\n",
       "      <td>45.50</td>\n",
       "      <td>603628</td>\n",
       "    </tr>\n",
       "    <tr>\n",
       "      <th>BY</th>\n",
       "      <td>9.50</td>\n",
       "      <td>207600</td>\n",
       "    </tr>\n",
       "    <tr>\n",
       "      <th>KZ</th>\n",
       "      <td>17.04</td>\n",
       "      <td>2724902</td>\n",
       "    </tr>\n",
       "  </tbody>\n",
       "</table>\n",
       "</div>"
      ],
      "text/plain": [
       "    population   square\n",
       "UA       45.50   603628\n",
       "BY        9.50   207600\n",
       "KZ       17.04  2724902"
      ]
     },
     "execution_count": 4,
     "metadata": {},
     "output_type": "execute_result"
    }
   ],
   "source": [
    "# создание и доступ\n",
    "import pandas as pd\n",
    "\n",
    "countries_df = pd.DataFrame({ # создание из словаря\n",
    "    'country': ['Англия', 'Канада', 'США', 'Россия', 'Украина', 'Беларусь', 'Казахстан'],\n",
    "    'population': [56.29, 38.05, 322.28, 146.24, 45.5, 9.5, 17.04],\n",
    "    'square': [133396, 9984670, 9826630, 17125191, 603628, 207600, 2724902]\n",
    "    })\n",
    "countries_df.index = ['UK', 'CA', 'US', 'RU', 'UA', 'BY', 'KZ'] # задание индексов вручную\n",
    "#display(countries_df)\n",
    "\n",
    "countries_df2 = pd.DataFrame( # создание из вложенных списков\n",
    "    data = [\n",
    "        ['Англия', 56.29, 133396],\n",
    "        ['Канада', 38.05, 9984670],\n",
    "        ['США', 322.28, 9826630],\n",
    "        ['Россия', 146.24, 17125191],\n",
    "        ['Украина', 45.5, 603628],\n",
    "        ['Беларусь', 9.5, 207600],\n",
    "        ['Казахстан', 17.04, 2724902]\n",
    "    ],\n",
    "    columns= ['country', 'population', 'square'], # название столбцов вручную\n",
    "    index = ['UK', 'CA', 'US', 'RU', 'UA', 'BY', 'KZ']\n",
    "    )\n",
    "#display(countries_df2)\n",
    "\n",
    "countries_df.mean(axis=0, numeric_only=True) # действие со строками: среднее по строкам для каждого столбца\n",
    "countries_df.mean(axis=1, numeric_only=True) # действие со столбцами: среднее по столбцам для каждой строки\n",
    "\n",
    "countries_df['population'] # доступ к столбцу по названию, результат - объект Series\n",
    "countries_df.loc['US', 'population'] # доступ к ячейкам: сначала индекс строки, потом индекс столбца\n",
    "countries_df.loc[['UK','US'], ['population', 'square']]\n",
    "countries_df.iloc[4:8, 1:3]"
   ]
  },
  {
   "cell_type": "code",
   "execution_count": 2,
   "metadata": {},
   "outputs": [
    {
     "data": {
      "text/plain": [
       "322"
      ]
     },
     "execution_count": 2,
     "metadata": {},
     "output_type": "execute_result"
    }
   ],
   "source": [
    "# задание\n",
    "\n",
    "import pandas as pd\n",
    "\n",
    "income = [478, 512, 196]\n",
    "expenses = [156, 130, 270]\n",
    "years = [2018, 2019, 2020]\n",
    "\n",
    "def create_companyDF(income, expenses, years):\n",
    "    a = dict()\n",
    "    a['income'] = income\n",
    "    a['expenses'] = expenses\n",
    "    df = pd.DataFrame(data = a, columns = ['income','expenses'], index = years)\n",
    "    return df\n",
    "\n",
    "df = create_companyDF(income, expenses, years)\n",
    "#display(df)\n",
    "\n",
    "def get_profit(df, year):\n",
    "    if year not in df.index: return None\n",
    "    profit = df.loc[year, 'income'] - df.loc[year, 'expenses']\n",
    "    return profit\n",
    "\n",
    "get_profit(df, 2018)\n"
   ]
  },
  {
   "cell_type": "code",
   "execution_count": null,
   "metadata": {},
   "outputs": [],
   "source": [
    "# экспорт в CSV\n",
    "\n",
    "import pandas as pd\n",
    "\n",
    "countries_df = pd.DataFrame({\n",
    "    'country': ['Англия', 'Канада', 'США', 'Россия', 'Украина', 'Беларусь', 'Казахстан'],\n",
    "    'population': [56.29, 38.05, 322.28, 146.24, 45.5, 9.5, 17.04],\n",
    "    'square': [133396, 9984670, 9826630, 17125191, 603628, 207600, 2724902]\n",
    "})\n",
    "\n",
    "countries_df.to_csv('data/countries.csv', index=False, sep=';') # index - нужно ли создавать дополнительный столбец с индексами\n",
    "#to_excel()"
   ]
  },
  {
   "cell_type": "code",
   "execution_count": 3,
   "metadata": {},
   "outputs": [
    {
     "data": {
      "text/html": [
       "<div>\n",
       "<style scoped>\n",
       "    .dataframe tbody tr th:only-of-type {\n",
       "        vertical-align: middle;\n",
       "    }\n",
       "\n",
       "    .dataframe tbody tr th {\n",
       "        vertical-align: top;\n",
       "    }\n",
       "\n",
       "    .dataframe thead th {\n",
       "        text-align: right;\n",
       "    }\n",
       "</style>\n",
       "<table border=\"1\" class=\"dataframe\">\n",
       "  <thead>\n",
       "    <tr style=\"text-align: right;\">\n",
       "      <th></th>\n",
       "      <th>country</th>\n",
       "      <th>population</th>\n",
       "      <th>square</th>\n",
       "    </tr>\n",
       "  </thead>\n",
       "  <tbody>\n",
       "    <tr>\n",
       "      <th>0</th>\n",
       "      <td>Англия</td>\n",
       "      <td>56.29</td>\n",
       "      <td>133396</td>\n",
       "    </tr>\n",
       "    <tr>\n",
       "      <th>1</th>\n",
       "      <td>Канада</td>\n",
       "      <td>38.05</td>\n",
       "      <td>9984670</td>\n",
       "    </tr>\n",
       "    <tr>\n",
       "      <th>2</th>\n",
       "      <td>США</td>\n",
       "      <td>322.28</td>\n",
       "      <td>9826630</td>\n",
       "    </tr>\n",
       "    <tr>\n",
       "      <th>3</th>\n",
       "      <td>Россия</td>\n",
       "      <td>146.24</td>\n",
       "      <td>17125191</td>\n",
       "    </tr>\n",
       "    <tr>\n",
       "      <th>4</th>\n",
       "      <td>Украина</td>\n",
       "      <td>45.50</td>\n",
       "      <td>603628</td>\n",
       "    </tr>\n",
       "    <tr>\n",
       "      <th>5</th>\n",
       "      <td>Беларусь</td>\n",
       "      <td>9.50</td>\n",
       "      <td>207600</td>\n",
       "    </tr>\n",
       "    <tr>\n",
       "      <th>6</th>\n",
       "      <td>Казахстан</td>\n",
       "      <td>17.04</td>\n",
       "      <td>2724902</td>\n",
       "    </tr>\n",
       "  </tbody>\n",
       "</table>\n",
       "</div>"
      ],
      "text/plain": [
       "     country  population    square\n",
       "0     Англия       56.29    133396\n",
       "1     Канада       38.05   9984670\n",
       "2        США      322.28   9826630\n",
       "3     Россия      146.24  17125191\n",
       "4    Украина       45.50    603628\n",
       "5   Беларусь        9.50    207600\n",
       "6  Казахстан       17.04   2724902"
      ]
     },
     "metadata": {},
     "output_type": "display_data"
    }
   ],
   "source": [
    "# загрузка из файла\n",
    "\n",
    "import pandas as pd\n",
    "\n",
    "countries_data = pd.read_csv('data/countries.csv', sep=';') # skiprows — количество строк в файле, которые нужно пропустить\n",
    "# read_sql(), read_excel()\n",
    "display(countries_data)"
   ]
  },
  {
   "cell_type": "code",
   "execution_count": 1,
   "metadata": {},
   "outputs": [
    {
     "ename": "KeyboardInterrupt",
     "evalue": "",
     "output_type": "error",
     "traceback": [
      "\u001b[1;31m---------------------------------------------------------------------------\u001b[0m",
      "\u001b[1;31mKeyboardInterrupt\u001b[0m                         Traceback (most recent call last)",
      "\u001b[1;32md:\\IDE\\Python-10. Pandas.ipynb Cell 9'\u001b[0m in \u001b[0;36m<cell line: 3>\u001b[1;34m()\u001b[0m\n\u001b[0;32m      <a href='vscode-notebook-cell:/d%3A/IDE/Python-10.%20Pandas.ipynb#ch0000008?line=0'>1</a>\u001b[0m \u001b[39m# загрузка по ссылке\u001b[39;00m\n\u001b[1;32m----> <a href='vscode-notebook-cell:/d%3A/IDE/Python-10.%20Pandas.ipynb#ch0000008?line=2'>3</a>\u001b[0m \u001b[39mimport\u001b[39;00m \u001b[39mpandas\u001b[39;00m \u001b[39mas\u001b[39;00m \u001b[39mpd\u001b[39;00m\n\u001b[0;32m      <a href='vscode-notebook-cell:/d%3A/IDE/Python-10.%20Pandas.ipynb#ch0000008?line=4'>5</a>\u001b[0m data \u001b[39m=\u001b[39m pd\u001b[39m.\u001b[39mread_csv(\u001b[39m'\u001b[39m\u001b[39mhttps://raw.githubusercontent.com/esabunor/MLWorkspace/master/melb_data.csv\u001b[39m\u001b[39m'\u001b[39m)\n\u001b[0;32m      <a href='vscode-notebook-cell:/d%3A/IDE/Python-10.%20Pandas.ipynb#ch0000008?line=5'>6</a>\u001b[0m display(data)\n",
      "File \u001b[1;32mc:\\Users\\izakl\\AppData\\Local\\Programs\\Python\\Python39\\lib\\site-packages\\pandas\\__init__.py:48\u001b[0m, in \u001b[0;36m<module>\u001b[1;34m\u001b[0m\n\u001b[0;32m     45\u001b[0m \u001b[39m# let init-time option registration happen\u001b[39;00m\n\u001b[0;32m     46\u001b[0m \u001b[39mimport\u001b[39;00m \u001b[39mpandas\u001b[39;00m\u001b[39m.\u001b[39;00m\u001b[39mcore\u001b[39;00m\u001b[39m.\u001b[39;00m\u001b[39mconfig_init\u001b[39;00m\n\u001b[1;32m---> 48\u001b[0m \u001b[39mfrom\u001b[39;00m \u001b[39mpandas\u001b[39;00m\u001b[39m.\u001b[39;00m\u001b[39mcore\u001b[39;00m\u001b[39m.\u001b[39;00m\u001b[39mapi\u001b[39;00m \u001b[39mimport\u001b[39;00m (\n\u001b[0;32m     49\u001b[0m     \u001b[39m# dtype\u001b[39;00m\n\u001b[0;32m     50\u001b[0m     Int8Dtype,\n\u001b[0;32m     51\u001b[0m     Int16Dtype,\n\u001b[0;32m     52\u001b[0m     Int32Dtype,\n\u001b[0;32m     53\u001b[0m     Int64Dtype,\n\u001b[0;32m     54\u001b[0m     UInt8Dtype,\n\u001b[0;32m     55\u001b[0m     UInt16Dtype,\n\u001b[0;32m     56\u001b[0m     UInt32Dtype,\n\u001b[0;32m     57\u001b[0m     UInt64Dtype,\n\u001b[0;32m     58\u001b[0m     Float32Dtype,\n\u001b[0;32m     59\u001b[0m     Float64Dtype,\n\u001b[0;32m     60\u001b[0m     CategoricalDtype,\n\u001b[0;32m     61\u001b[0m     PeriodDtype,\n\u001b[0;32m     62\u001b[0m     IntervalDtype,\n\u001b[0;32m     63\u001b[0m     DatetimeTZDtype,\n\u001b[0;32m     64\u001b[0m     StringDtype,\n\u001b[0;32m     65\u001b[0m     BooleanDtype,\n\u001b[0;32m     66\u001b[0m     \u001b[39m# missing\u001b[39;00m\n\u001b[0;32m     67\u001b[0m     NA,\n\u001b[0;32m     68\u001b[0m     isna,\n\u001b[0;32m     69\u001b[0m     isnull,\n\u001b[0;32m     70\u001b[0m     notna,\n\u001b[0;32m     71\u001b[0m     notnull,\n\u001b[0;32m     72\u001b[0m     \u001b[39m# indexes\u001b[39;00m\n\u001b[0;32m     73\u001b[0m     Index,\n\u001b[0;32m     74\u001b[0m     CategoricalIndex,\n\u001b[0;32m     75\u001b[0m     RangeIndex,\n\u001b[0;32m     76\u001b[0m     MultiIndex,\n\u001b[0;32m     77\u001b[0m     IntervalIndex,\n\u001b[0;32m     78\u001b[0m     TimedeltaIndex,\n\u001b[0;32m     79\u001b[0m     DatetimeIndex,\n\u001b[0;32m     80\u001b[0m     PeriodIndex,\n\u001b[0;32m     81\u001b[0m     IndexSlice,\n\u001b[0;32m     82\u001b[0m     \u001b[39m# tseries\u001b[39;00m\n\u001b[0;32m     83\u001b[0m     NaT,\n\u001b[0;32m     84\u001b[0m     Period,\n\u001b[0;32m     85\u001b[0m     period_range,\n\u001b[0;32m     86\u001b[0m     Timedelta,\n\u001b[0;32m     87\u001b[0m     timedelta_range,\n\u001b[0;32m     88\u001b[0m     Timestamp,\n\u001b[0;32m     89\u001b[0m     date_range,\n\u001b[0;32m     90\u001b[0m     bdate_range,\n\u001b[0;32m     91\u001b[0m     Interval,\n\u001b[0;32m     92\u001b[0m     interval_range,\n\u001b[0;32m     93\u001b[0m     DateOffset,\n\u001b[0;32m     94\u001b[0m     \u001b[39m# conversion\u001b[39;00m\n\u001b[0;32m     95\u001b[0m     to_numeric,\n\u001b[0;32m     96\u001b[0m     to_datetime,\n\u001b[0;32m     97\u001b[0m     to_timedelta,\n\u001b[0;32m     98\u001b[0m     \u001b[39m# misc\u001b[39;00m\n\u001b[0;32m     99\u001b[0m     Flags,\n\u001b[0;32m    100\u001b[0m     Grouper,\n\u001b[0;32m    101\u001b[0m     factorize,\n\u001b[0;32m    102\u001b[0m     unique,\n\u001b[0;32m    103\u001b[0m     value_counts,\n\u001b[0;32m    104\u001b[0m     NamedAgg,\n\u001b[0;32m    105\u001b[0m     array,\n\u001b[0;32m    106\u001b[0m     Categorical,\n\u001b[0;32m    107\u001b[0m     set_eng_float_format,\n\u001b[0;32m    108\u001b[0m     Series,\n\u001b[0;32m    109\u001b[0m     DataFrame,\n\u001b[0;32m    110\u001b[0m )\n\u001b[0;32m    112\u001b[0m \u001b[39mfrom\u001b[39;00m \u001b[39mpandas\u001b[39;00m\u001b[39m.\u001b[39;00m\u001b[39mcore\u001b[39;00m\u001b[39m.\u001b[39;00m\u001b[39marrays\u001b[39;00m\u001b[39m.\u001b[39;00m\u001b[39msparse\u001b[39;00m \u001b[39mimport\u001b[39;00m SparseDtype\n\u001b[0;32m    114\u001b[0m \u001b[39mfrom\u001b[39;00m \u001b[39mpandas\u001b[39;00m\u001b[39m.\u001b[39;00m\u001b[39mtseries\u001b[39;00m\u001b[39m.\u001b[39;00m\u001b[39mapi\u001b[39;00m \u001b[39mimport\u001b[39;00m infer_freq\n",
      "File \u001b[1;32mc:\\Users\\izakl\\AppData\\Local\\Programs\\Python\\Python39\\lib\\site-packages\\pandas\\core\\api.py:48\u001b[0m, in \u001b[0;36m<module>\u001b[1;34m\u001b[0m\n\u001b[0;32m     46\u001b[0m \u001b[39mfrom\u001b[39;00m \u001b[39mpandas\u001b[39;00m\u001b[39m.\u001b[39;00m\u001b[39mcore\u001b[39;00m\u001b[39m.\u001b[39;00m\u001b[39mconstruction\u001b[39;00m \u001b[39mimport\u001b[39;00m array\n\u001b[0;32m     47\u001b[0m \u001b[39mfrom\u001b[39;00m \u001b[39mpandas\u001b[39;00m\u001b[39m.\u001b[39;00m\u001b[39mcore\u001b[39;00m\u001b[39m.\u001b[39;00m\u001b[39mflags\u001b[39;00m \u001b[39mimport\u001b[39;00m Flags\n\u001b[1;32m---> 48\u001b[0m \u001b[39mfrom\u001b[39;00m \u001b[39mpandas\u001b[39;00m\u001b[39m.\u001b[39;00m\u001b[39mcore\u001b[39;00m\u001b[39m.\u001b[39;00m\u001b[39mgroupby\u001b[39;00m \u001b[39mimport\u001b[39;00m (\n\u001b[0;32m     49\u001b[0m     Grouper,\n\u001b[0;32m     50\u001b[0m     NamedAgg,\n\u001b[0;32m     51\u001b[0m )\n\u001b[0;32m     52\u001b[0m \u001b[39mfrom\u001b[39;00m \u001b[39mpandas\u001b[39;00m\u001b[39m.\u001b[39;00m\u001b[39mcore\u001b[39;00m\u001b[39m.\u001b[39;00m\u001b[39mindexes\u001b[39;00m\u001b[39m.\u001b[39;00m\u001b[39mapi\u001b[39;00m \u001b[39mimport\u001b[39;00m (\n\u001b[0;32m     53\u001b[0m     CategoricalIndex,\n\u001b[0;32m     54\u001b[0m     DatetimeIndex,\n\u001b[1;32m   (...)\u001b[0m\n\u001b[0;32m     64\u001b[0m     UInt64Index,\n\u001b[0;32m     65\u001b[0m )\n\u001b[0;32m     66\u001b[0m \u001b[39mfrom\u001b[39;00m \u001b[39mpandas\u001b[39;00m\u001b[39m.\u001b[39;00m\u001b[39mcore\u001b[39;00m\u001b[39m.\u001b[39;00m\u001b[39mindexes\u001b[39;00m\u001b[39m.\u001b[39;00m\u001b[39mdatetimes\u001b[39;00m \u001b[39mimport\u001b[39;00m (\n\u001b[0;32m     67\u001b[0m     bdate_range,\n\u001b[0;32m     68\u001b[0m     date_range,\n\u001b[0;32m     69\u001b[0m )\n",
      "File \u001b[1;32mc:\\Users\\izakl\\AppData\\Local\\Programs\\Python\\Python39\\lib\\site-packages\\pandas\\core\\groupby\\__init__.py:1\u001b[0m, in \u001b[0;36m<module>\u001b[1;34m\u001b[0m\n\u001b[1;32m----> 1\u001b[0m \u001b[39mfrom\u001b[39;00m \u001b[39mpandas\u001b[39;00m\u001b[39m.\u001b[39;00m\u001b[39mcore\u001b[39;00m\u001b[39m.\u001b[39;00m\u001b[39mgroupby\u001b[39;00m\u001b[39m.\u001b[39;00m\u001b[39mgeneric\u001b[39;00m \u001b[39mimport\u001b[39;00m (\n\u001b[0;32m      2\u001b[0m     DataFrameGroupBy,\n\u001b[0;32m      3\u001b[0m     NamedAgg,\n\u001b[0;32m      4\u001b[0m     SeriesGroupBy,\n\u001b[0;32m      5\u001b[0m )\n\u001b[0;32m      6\u001b[0m \u001b[39mfrom\u001b[39;00m \u001b[39mpandas\u001b[39;00m\u001b[39m.\u001b[39;00m\u001b[39mcore\u001b[39;00m\u001b[39m.\u001b[39;00m\u001b[39mgroupby\u001b[39;00m\u001b[39m.\u001b[39;00m\u001b[39mgroupby\u001b[39;00m \u001b[39mimport\u001b[39;00m GroupBy\n\u001b[0;32m      7\u001b[0m \u001b[39mfrom\u001b[39;00m \u001b[39mpandas\u001b[39;00m\u001b[39m.\u001b[39;00m\u001b[39mcore\u001b[39;00m\u001b[39m.\u001b[39;00m\u001b[39mgroupby\u001b[39;00m\u001b[39m.\u001b[39;00m\u001b[39mgrouper\u001b[39;00m \u001b[39mimport\u001b[39;00m Grouper\n",
      "File \u001b[1;32mc:\\Users\\izakl\\AppData\\Local\\Programs\\Python\\Python39\\lib\\site-packages\\pandas\\core\\groupby\\generic.py:70\u001b[0m, in \u001b[0;36m<module>\u001b[1;34m\u001b[0m\n\u001b[0;32m     68\u001b[0m \u001b[39mimport\u001b[39;00m \u001b[39mpandas\u001b[39;00m\u001b[39m.\u001b[39;00m\u001b[39mcore\u001b[39;00m\u001b[39m.\u001b[39;00m\u001b[39mcommon\u001b[39;00m \u001b[39mas\u001b[39;00m \u001b[39mcom\u001b[39;00m\n\u001b[0;32m     69\u001b[0m \u001b[39mfrom\u001b[39;00m \u001b[39mpandas\u001b[39;00m\u001b[39m.\u001b[39;00m\u001b[39mcore\u001b[39;00m\u001b[39m.\u001b[39;00m\u001b[39mconstruction\u001b[39;00m \u001b[39mimport\u001b[39;00m create_series_with_explicit_dtype\n\u001b[1;32m---> 70\u001b[0m \u001b[39mfrom\u001b[39;00m \u001b[39mpandas\u001b[39;00m\u001b[39m.\u001b[39;00m\u001b[39mcore\u001b[39;00m\u001b[39m.\u001b[39;00m\u001b[39mframe\u001b[39;00m \u001b[39mimport\u001b[39;00m DataFrame\n\u001b[0;32m     71\u001b[0m \u001b[39mfrom\u001b[39;00m \u001b[39mpandas\u001b[39;00m\u001b[39m.\u001b[39;00m\u001b[39mcore\u001b[39;00m\u001b[39m.\u001b[39;00m\u001b[39mgeneric\u001b[39;00m \u001b[39mimport\u001b[39;00m NDFrame\n\u001b[0;32m     72\u001b[0m \u001b[39mfrom\u001b[39;00m \u001b[39mpandas\u001b[39;00m\u001b[39m.\u001b[39;00m\u001b[39mcore\u001b[39;00m\u001b[39m.\u001b[39;00m\u001b[39mgroupby\u001b[39;00m \u001b[39mimport\u001b[39;00m base\n",
      "File \u001b[1;32mc:\\Users\\izakl\\AppData\\Local\\Programs\\Python\\Python39\\lib\\site-packages\\pandas\\core\\frame.py:157\u001b[0m, in \u001b[0;36m<module>\u001b[1;34m\u001b[0m\n\u001b[0;32m    151\u001b[0m \u001b[39mfrom\u001b[39;00m \u001b[39mpandas\u001b[39;00m\u001b[39m.\u001b[39;00m\u001b[39mcore\u001b[39;00m\u001b[39m.\u001b[39;00m\u001b[39marrays\u001b[39;00m\u001b[39m.\u001b[39;00m\u001b[39msparse\u001b[39;00m \u001b[39mimport\u001b[39;00m SparseFrameAccessor\n\u001b[0;32m    152\u001b[0m \u001b[39mfrom\u001b[39;00m \u001b[39mpandas\u001b[39;00m\u001b[39m.\u001b[39;00m\u001b[39mcore\u001b[39;00m\u001b[39m.\u001b[39;00m\u001b[39mconstruction\u001b[39;00m \u001b[39mimport\u001b[39;00m (\n\u001b[0;32m    153\u001b[0m     extract_array,\n\u001b[0;32m    154\u001b[0m     sanitize_array,\n\u001b[0;32m    155\u001b[0m     sanitize_masked_array,\n\u001b[0;32m    156\u001b[0m )\n\u001b[1;32m--> 157\u001b[0m \u001b[39mfrom\u001b[39;00m \u001b[39mpandas\u001b[39;00m\u001b[39m.\u001b[39;00m\u001b[39mcore\u001b[39;00m\u001b[39m.\u001b[39;00m\u001b[39mgeneric\u001b[39;00m \u001b[39mimport\u001b[39;00m NDFrame\n\u001b[0;32m    158\u001b[0m \u001b[39mfrom\u001b[39;00m \u001b[39mpandas\u001b[39;00m\u001b[39m.\u001b[39;00m\u001b[39mcore\u001b[39;00m\u001b[39m.\u001b[39;00m\u001b[39mindexers\u001b[39;00m \u001b[39mimport\u001b[39;00m check_key_length\n\u001b[0;32m    159\u001b[0m \u001b[39mfrom\u001b[39;00m \u001b[39mpandas\u001b[39;00m\u001b[39m.\u001b[39;00m\u001b[39mcore\u001b[39;00m\u001b[39m.\u001b[39;00m\u001b[39mindexes\u001b[39;00m\u001b[39m.\u001b[39;00m\u001b[39mapi\u001b[39;00m \u001b[39mimport\u001b[39;00m (\n\u001b[0;32m    160\u001b[0m     DatetimeIndex,\n\u001b[0;32m    161\u001b[0m     Index,\n\u001b[1;32m   (...)\u001b[0m\n\u001b[0;32m    165\u001b[0m     ensure_index_from_sequences,\n\u001b[0;32m    166\u001b[0m )\n",
      "File \u001b[1;32mc:\\Users\\izakl\\AppData\\Local\\Programs\\Python\\Python39\\lib\\site-packages\\pandas\\core\\generic.py:129\u001b[0m, in \u001b[0;36m<module>\u001b[1;34m\u001b[0m\n\u001b[0;32m    124\u001b[0m \u001b[39mimport\u001b[39;00m \u001b[39mpandas\u001b[39;00m\u001b[39m.\u001b[39;00m\u001b[39mcore\u001b[39;00m\u001b[39m.\u001b[39;00m\u001b[39mcommon\u001b[39;00m \u001b[39mas\u001b[39;00m \u001b[39mcom\u001b[39;00m\n\u001b[0;32m    125\u001b[0m \u001b[39mfrom\u001b[39;00m \u001b[39mpandas\u001b[39;00m\u001b[39m.\u001b[39;00m\u001b[39mcore\u001b[39;00m\u001b[39m.\u001b[39;00m\u001b[39mconstruction\u001b[39;00m \u001b[39mimport\u001b[39;00m (\n\u001b[0;32m    126\u001b[0m     create_series_with_explicit_dtype,\n\u001b[0;32m    127\u001b[0m     extract_array,\n\u001b[0;32m    128\u001b[0m )\n\u001b[1;32m--> 129\u001b[0m \u001b[39mfrom\u001b[39;00m \u001b[39mpandas\u001b[39;00m\u001b[39m.\u001b[39;00m\u001b[39mcore\u001b[39;00m\u001b[39m.\u001b[39;00m\u001b[39mdescribe\u001b[39;00m \u001b[39mimport\u001b[39;00m describe_ndframe\n\u001b[0;32m    130\u001b[0m \u001b[39mfrom\u001b[39;00m \u001b[39mpandas\u001b[39;00m\u001b[39m.\u001b[39;00m\u001b[39mcore\u001b[39;00m\u001b[39m.\u001b[39;00m\u001b[39mflags\u001b[39;00m \u001b[39mimport\u001b[39;00m Flags\n\u001b[0;32m    131\u001b[0m \u001b[39mfrom\u001b[39;00m \u001b[39mpandas\u001b[39;00m\u001b[39m.\u001b[39;00m\u001b[39mcore\u001b[39;00m\u001b[39m.\u001b[39;00m\u001b[39mindexes\u001b[39;00m\u001b[39m.\u001b[39;00m\u001b[39mapi\u001b[39;00m \u001b[39mimport\u001b[39;00m (\n\u001b[0;32m    132\u001b[0m     DatetimeIndex,\n\u001b[0;32m    133\u001b[0m     Index,\n\u001b[1;32m   (...)\u001b[0m\n\u001b[0;32m    138\u001b[0m     ensure_index,\n\u001b[0;32m    139\u001b[0m )\n",
      "File \u001b[1;32mc:\\Users\\izakl\\AppData\\Local\\Programs\\Python\\Python39\\lib\\site-packages\\pandas\\core\\describe.py:38\u001b[0m, in \u001b[0;36m<module>\u001b[1;34m\u001b[0m\n\u001b[0;32m     29\u001b[0m \u001b[39mfrom\u001b[39;00m \u001b[39mpandas\u001b[39;00m\u001b[39m.\u001b[39;00m\u001b[39mcore\u001b[39;00m\u001b[39m.\u001b[39;00m\u001b[39mdtypes\u001b[39;00m\u001b[39m.\u001b[39;00m\u001b[39mcommon\u001b[39;00m \u001b[39mimport\u001b[39;00m (\n\u001b[0;32m     30\u001b[0m     is_bool_dtype,\n\u001b[0;32m     31\u001b[0m     is_datetime64_any_dtype,\n\u001b[0;32m     32\u001b[0m     is_numeric_dtype,\n\u001b[0;32m     33\u001b[0m     is_timedelta64_dtype,\n\u001b[0;32m     34\u001b[0m )\n\u001b[0;32m     36\u001b[0m \u001b[39mfrom\u001b[39;00m \u001b[39mpandas\u001b[39;00m\u001b[39m.\u001b[39;00m\u001b[39mcore\u001b[39;00m\u001b[39m.\u001b[39;00m\u001b[39mreshape\u001b[39;00m\u001b[39m.\u001b[39;00m\u001b[39mconcat\u001b[39;00m \u001b[39mimport\u001b[39;00m concat\n\u001b[1;32m---> 38\u001b[0m \u001b[39mfrom\u001b[39;00m \u001b[39mpandas\u001b[39;00m\u001b[39m.\u001b[39;00m\u001b[39mio\u001b[39;00m\u001b[39m.\u001b[39;00m\u001b[39mformats\u001b[39;00m\u001b[39m.\u001b[39;00m\u001b[39mformat\u001b[39;00m \u001b[39mimport\u001b[39;00m format_percentiles\n\u001b[0;32m     40\u001b[0m \u001b[39mif\u001b[39;00m TYPE_CHECKING:\n\u001b[0;32m     41\u001b[0m     \u001b[39mfrom\u001b[39;00m \u001b[39mpandas\u001b[39;00m \u001b[39mimport\u001b[39;00m (\n\u001b[0;32m     42\u001b[0m         DataFrame,\n\u001b[0;32m     43\u001b[0m         Series,\n\u001b[0;32m     44\u001b[0m     )\n",
      "File \u001b[1;32mc:\\Users\\izakl\\AppData\\Local\\Programs\\Python\\Python39\\lib\\site-packages\\pandas\\io\\formats\\format.py:99\u001b[0m, in \u001b[0;36m<module>\u001b[1;34m\u001b[0m\n\u001b[0;32m     96\u001b[0m \u001b[39mfrom\u001b[39;00m \u001b[39mpandas\u001b[39;00m\u001b[39m.\u001b[39;00m\u001b[39mcore\u001b[39;00m\u001b[39m.\u001b[39;00m\u001b[39mindexes\u001b[39;00m\u001b[39m.\u001b[39;00m\u001b[39mtimedeltas\u001b[39;00m \u001b[39mimport\u001b[39;00m TimedeltaIndex\n\u001b[0;32m     97\u001b[0m \u001b[39mfrom\u001b[39;00m \u001b[39mpandas\u001b[39;00m\u001b[39m.\u001b[39;00m\u001b[39mcore\u001b[39;00m\u001b[39m.\u001b[39;00m\u001b[39mreshape\u001b[39;00m\u001b[39m.\u001b[39;00m\u001b[39mconcat\u001b[39;00m \u001b[39mimport\u001b[39;00m concat\n\u001b[1;32m---> 99\u001b[0m \u001b[39mfrom\u001b[39;00m \u001b[39mpandas\u001b[39;00m\u001b[39m.\u001b[39;00m\u001b[39mio\u001b[39;00m\u001b[39m.\u001b[39;00m\u001b[39mcommon\u001b[39;00m \u001b[39mimport\u001b[39;00m (\n\u001b[0;32m    100\u001b[0m     check_parent_directory,\n\u001b[0;32m    101\u001b[0m     stringify_path,\n\u001b[0;32m    102\u001b[0m )\n\u001b[0;32m    103\u001b[0m \u001b[39mfrom\u001b[39;00m \u001b[39mpandas\u001b[39;00m\u001b[39m.\u001b[39;00m\u001b[39mio\u001b[39;00m\u001b[39m.\u001b[39;00m\u001b[39mformats\u001b[39;00m\u001b[39m.\u001b[39;00m\u001b[39mprinting\u001b[39;00m \u001b[39mimport\u001b[39;00m (\n\u001b[0;32m    104\u001b[0m     adjoin,\n\u001b[0;32m    105\u001b[0m     justify,\n\u001b[0;32m    106\u001b[0m     pprint_thing,\n\u001b[0;32m    107\u001b[0m )\n\u001b[0;32m    109\u001b[0m \u001b[39mif\u001b[39;00m TYPE_CHECKING:\n",
      "File \u001b[1;32mc:\\Users\\izakl\\AppData\\Local\\Programs\\Python\\Python39\\lib\\site-packages\\pandas\\io\\common.py:59\u001b[0m, in \u001b[0;36m<module>\u001b[1;34m\u001b[0m\n\u001b[0;32m     55\u001b[0m \u001b[39mfrom\u001b[39;00m \u001b[39mpandas\u001b[39;00m\u001b[39m.\u001b[39;00m\u001b[39mutil\u001b[39;00m\u001b[39m.\u001b[39;00m\u001b[39m_exceptions\u001b[39;00m \u001b[39mimport\u001b[39;00m find_stack_level\n\u001b[0;32m     57\u001b[0m \u001b[39mfrom\u001b[39;00m \u001b[39mpandas\u001b[39;00m\u001b[39m.\u001b[39;00m\u001b[39mcore\u001b[39;00m\u001b[39m.\u001b[39;00m\u001b[39mdtypes\u001b[39;00m\u001b[39m.\u001b[39;00m\u001b[39mcommon\u001b[39;00m \u001b[39mimport\u001b[39;00m is_file_like\n\u001b[1;32m---> 59\u001b[0m \u001b[39mfrom\u001b[39;00m \u001b[39mpandas\u001b[39;00m\u001b[39m.\u001b[39;00m\u001b[39mcore\u001b[39;00m\u001b[39m.\u001b[39;00m\u001b[39mshared_docs\u001b[39;00m \u001b[39mimport\u001b[39;00m _shared_docs\n\u001b[0;32m     61\u001b[0m _VALID_URLS \u001b[39m=\u001b[39m \u001b[39mset\u001b[39m(uses_relative \u001b[39m+\u001b[39m uses_netloc \u001b[39m+\u001b[39m uses_params)\n\u001b[0;32m     62\u001b[0m _VALID_URLS\u001b[39m.\u001b[39mdiscard(\u001b[39m\"\u001b[39m\u001b[39m\"\u001b[39m)\n",
      "File \u001b[1;32m<frozen importlib._bootstrap>:1007\u001b[0m, in \u001b[0;36m_find_and_load\u001b[1;34m(name, import_)\u001b[0m\n",
      "File \u001b[1;32m<frozen importlib._bootstrap>:986\u001b[0m, in \u001b[0;36m_find_and_load_unlocked\u001b[1;34m(name, import_)\u001b[0m\n",
      "File \u001b[1;32m<frozen importlib._bootstrap>:680\u001b[0m, in \u001b[0;36m_load_unlocked\u001b[1;34m(spec)\u001b[0m\n",
      "File \u001b[1;32m<frozen importlib._bootstrap_external>:846\u001b[0m, in \u001b[0;36mexec_module\u001b[1;34m(self, module)\u001b[0m\n",
      "File \u001b[1;32m<frozen importlib._bootstrap_external>:941\u001b[0m, in \u001b[0;36mget_code\u001b[1;34m(self, fullname)\u001b[0m\n",
      "File \u001b[1;32m<frozen importlib._bootstrap_external>:1039\u001b[0m, in \u001b[0;36mget_data\u001b[1;34m(self, path)\u001b[0m\n",
      "\u001b[1;31mKeyboardInterrupt\u001b[0m: "
     ]
    }
   ],
   "source": [
    "# загрузка по ссылке\n",
    "\n",
    "import pandas as pd\n",
    "\n",
    "data = pd.read_csv('https://raw.githubusercontent.com/esabunor/MLWorkspace/master/melb_data.csv')\n",
    "display(data)\n"
   ]
  },
  {
   "cell_type": "code",
   "execution_count": 40,
   "metadata": {},
   "outputs": [
    {
     "data": {
      "text/plain": [
       "Southern Metropolitan         34.572901\n",
       "Northern Metropolitan         28.645066\n",
       "Western Metropolitan          21.708395\n",
       "Eastern Metropolitan          10.832106\n",
       "South-Eastern Metropolitan     3.313697\n",
       "Eastern Victoria               0.390280\n",
       "Northern Victoria              0.301915\n",
       "Western Victoria               0.235641\n",
       "Name: Regionname, dtype: float64"
      ]
     },
     "execution_count": 40,
     "metadata": {},
     "output_type": "execute_result"
    }
   ],
   "source": [
    "# исследование + статистика\n",
    "\n",
    "import pandas as pd\n",
    "\n",
    "melb_data = pd.read_csv('data/melb_data.csv', sep=',')\n",
    "melb_data.loc[15,'Price']\n",
    "\n",
    "melb_data.head() # вывод верхних строк, по умолчанию 5\n",
    "melb_data.tail(7) # вывод нижнихт строк с указанием количества\n",
    "melb_data.shape # количество строк и столбцов, shape[0] - только строки\n",
    "#melb_data.info() # детальная информация о столбцах: индекс, название, кол-во непустых значений, тип данных и кол-во столбцов с таким типом\n",
    "#melb_data[\"Coordinates\"].info() # для отдельного столбца\n",
    "\n",
    "melb_data['Car'] = melb_data['Car'].astype('int64') # преобразование типа данных столбца\n",
    "\n",
    "melb_data.describe().loc[:, ['Distance', 'BuildingArea' , 'Price']] # описательная статистика для int и float\n",
    "melb_data.describe(include=['object']) # top - самое частое значение (мода), freq - частота использования моды\n",
    "melb_data['Regionname'].value_counts() # частота каждого уникального значения, объект типа Series\n",
    "melb_data['Regionname'].value_counts(normalize=True)*100 # частота в виде доли\n",
    "\n",
    "melb_data['Price'].mean()\n",
    "# count(), min(), max(), sum(), quantile(x), mean() - среднее\n",
    "# deviance() - дисперсия, std() - стандартное отклонение, nunique() - число уникальных значений\n",
    "melb_data['Regionname'].mode() # самое распространное значение в столбце, может использоваться с типом object\n"
   ]
  },
  {
   "cell_type": "code",
   "execution_count": 1,
   "metadata": {},
   "outputs": [
    {
     "data": {
      "text/plain": [
       "5"
      ]
     },
     "execution_count": 1,
     "metadata": {},
     "output_type": "execute_result"
    }
   ],
   "source": [
    "# фильтрация\n",
    "\n",
    "import pandas as pd\n",
    "melb_data = pd.read_csv('data/melb_data.csv', sep=',')\n",
    "\n",
    "mask = melb_data['Price'] > 2000000 # маска - объекс Series, который выдает True для индексов, где выполняется условие, иначе - False\n",
    "melb_data[mask]\n",
    "melb_data[melb_data['Price'] > 2000000]\n",
    "\n",
    "melb_data[(melb_data['Rooms'] == 3) & (melb_data['Price'] < 300000)].shape[0] # a AND b\n",
    "melb_data[((melb_data['Rooms'] == 3) | (melb_data['BuildingArea'] > 100)) & (melb_data['Price'] < 300000)].shape[0] # (a OR b) AND c\n",
    "\n",
    "melb_data[melb_data['Type'] == 't']['Rooms'].max() # стат методы с фильтрацией"
   ]
  }
 ],
 "metadata": {
  "kernelspec": {
   "display_name": "Python 3.9.10 64-bit",
   "language": "python",
   "name": "python3"
  },
  "language_info": {
   "codemirror_mode": {
    "name": "ipython",
    "version": 3
   },
   "file_extension": ".py",
   "mimetype": "text/x-python",
   "name": "python",
   "nbconvert_exporter": "python",
   "pygments_lexer": "ipython3",
   "version": "3.9.10"
  },
  "orig_nbformat": 4,
  "vscode": {
   "interpreter": {
    "hash": "49761ee4a4f5e7b89ab963a7b7a1a526865aa0dcf706c827f170f39ed3baa10b"
   }
  }
 },
 "nbformat": 4,
 "nbformat_minor": 2
}
