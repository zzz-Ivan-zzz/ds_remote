{
 "cells": [
  {
   "cell_type": "code",
   "execution_count": null,
   "metadata": {},
   "outputs": [],
   "source": [
    "\"\"\" Описание столбцов:\n",
    "Index — номер строки\n",
    "Suburb — наименование пригорода\n",
    "Address — адрес\n",
    "Rooms — количество комнат в помещении\n",
    "Type — тип здания (h — дом, коттедж, вилла, терраса; u — блочный, дуплексный дом; t — таунхаус)\n",
    "Price — цена помещения\n",
    "Method — метод продажи \n",
    "SellerG — риэлторская компания\n",
    "Date — дата продажи (в формате день/месяц/год)\n",
    "Distance — расстояния до объекта от центра Мельбурна \n",
    "Postcode — почтовый индекс\n",
    "Bedroom — количество спален\n",
    "Bathroom — количество ванных комнат\n",
    "Car — количество парковочных мест\n",
    "Landsize — площадь прилегающей территории\n",
    "BuildingArea — площадь здания\n",
    "YearBuilt — год постройки\n",
    "CouncilArea — региональное управление\n",
    "Lattitude — географическая широта\n",
    "Longitude — географическая долгота\n",
    "Regionname — наименование района Мельбурна\n",
    "Propertycount — количество объектов недвижимости в районе\n",
    "Coordinates — широта и долгота, объединённые в кортеж\n",
    "\"\"\"\n"
   ]
  },
  {
   "cell_type": "code",
   "execution_count": 10,
   "metadata": {},
   "outputs": [],
   "source": [
    "import pandas as pd\n",
    "\n",
    "melb_data = pd.read_csv('data/melb_data_ps.csv', sep=',')\n",
    "melb_df = melb_data.copy()\n",
    "\n",
    "melb_df = melb_df.drop(['index', 'Coordinates'], axis=1) # порядковые номера или имена столбцов для удаления, если их несколько, передаётся список\n",
    "# axis=0 — удаляются строки, axis=1 — удаляются столбцы\n",
    "\n",
    "total_rooms = melb_df['Rooms'] + melb_df['Bedroom'] + melb_df['Bathroom'] # общее количество комнат\n",
    "melb_df['MeanRoomsSquare'] = melb_df['BuildingArea'] / total_rooms # средняя площадь одной комнаты\n",
    "\n",
    "diff_area = melb_df['BuildingArea'] - melb_df['Landsize']\n",
    "sum_area = melb_df['BuildingArea'] + melb_df['Landsize']\n",
    "melb_df['AreaRatio'] = diff_area/sum_area # соотношение площади здания и участка\n",
    "# <0 площадь участка больше площади здания, -1 без строений, 1 без территорий"
   ]
  }
 ],
 "metadata": {
  "kernelspec": {
   "display_name": "Python 3.9.10 64-bit",
   "language": "python",
   "name": "python3"
  },
  "language_info": {
   "codemirror_mode": {
    "name": "ipython",
    "version": 3
   },
   "file_extension": ".py",
   "mimetype": "text/x-python",
   "name": "python",
   "nbconvert_exporter": "python",
   "pygments_lexer": "ipython3",
   "version": "3.9.10"
  },
  "orig_nbformat": 4,
  "vscode": {
   "interpreter": {
    "hash": "49761ee4a4f5e7b89ab963a7b7a1a526865aa0dcf706c827f170f39ed3baa10b"
   }
  }
 },
 "nbformat": 4,
 "nbformat_minor": 2
}
