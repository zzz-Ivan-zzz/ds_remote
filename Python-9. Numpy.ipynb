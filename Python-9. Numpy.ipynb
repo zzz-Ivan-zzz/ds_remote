{
 "cells": [
  {
   "cell_type": "markdown",
   "metadata": {},
   "source": [
    "# Типы данных"
   ]
  },
  {
   "cell_type": "code",
   "execution_count": 2,
   "metadata": {},
   "outputs": [
    {
     "name": "stdout",
     "output_type": "stream",
     "text": [
      "0.45\n"
     ]
    }
   ],
   "source": [
    "import numpy as np\n",
    "\n",
    "a = np.int8(25) # целочисленный типа данных\n",
    "b = np.uint8(124) # беззнаковый целочисленный типа данных\n",
    "с = np.float16 # число с плавающей точкой, resolution - точность, с которой сохраняется десятая часть\n",
    "np.finfo(с) # параметры типа данных: минимум, максимум, тип, resolution\n",
    "\n",
    "nd_arr = np.array([\n",
    "               [12, 45, 78],\n",
    "               [34, 56, 13],\n",
    "               [12, 98, 76]\n",
    "               ], dtype=np.int16)\n",
    "\n",
    "nd_arr.dtype # тип данных в массиве\n",
    "nd_arr.ndim # размерность массива (одномерный, двухмерный, трехмерный)\n",
    "nd_arr.size # число элементов в массиве\n",
    "nd_arr.shape # структура массива (число элементов в каждом измерении)\n",
    "nd_arr.itemsize # вес каждого элемента в байтах\n",
    "\n",
    "zeros_3d = np.zeros((5,4,3), dtype = np.int8) # создание пустого массива заданной структуры\n",
    "np.arange(2.5, 5, 0.5) # одномерный массив аналогично range (start, stop, step)\n",
    "np.linspace(1, 5, num=7, endpoint=True, retstep=False, dtype=None) # числа между start и stop расположены равноудаленно\n",
    "    # num - число элементов в массиве, endpoint включен stop или нет\n",
    "arr, step = np.linspace(-6, 21, 60, endpoint=False, retstep=True)\n",
    "print(step) # шаг массива"
   ]
  },
  {
   "cell_type": "markdown",
   "metadata": {},
   "source": [
    "# Массивы"
   ]
  },
  {
   "cell_type": "code",
   "execution_count": 16,
   "metadata": {},
   "outputs": [
    {
     "name": "stderr",
     "output_type": "stream",
     "text": [
      "C:\\Users\\izakl\\AppData\\Local\\Temp\\ipykernel_16296\\3063513603.py:12: RuntimeWarning: invalid value encountered in sqrt\n",
      "  roots = np.sqrt(data) # извлечение квадратного корня\n"
     ]
    },
    {
     "data": {
      "text/plain": [
       "6.732050807568877"
      ]
     },
     "execution_count": 16,
     "metadata": {},
     "output_type": "execute_result"
    }
   ],
   "source": [
    "import numpy as np\n",
    "\n",
    "arr = np.arange(8)\n",
    "arr.shape = (2, 4) # изменяется массив (число строк, число столбцов)\n",
    "arr_new = arr.reshape((4, 2), order='F') # возвращается новый массив, старый не меняется; order = 'F' - заполнение по столбцам\n",
    "arr_trans = arr.transpose() # транспонирование\n",
    "arr_trans[0:2, 1] # обращение по индексу\n",
    "arr_trans[:, 0] # все значения одной оси\n",
    "arr_sort = np.sort(arr_trans) # сортировка\n",
    "\n",
    "data = np.array([4, 9, -4, 3])\n",
    "roots = np.sqrt(data) # извлечение квадратного корня\n",
    "np.isnan(roots) # на каких местах в массиве находится np.nan\n",
    "roots[np.isnan(roots)] = 0 # замена nan на 0\n",
    "sum(roots)"
   ]
  },
  {
   "cell_type": "markdown",
   "metadata": {},
   "source": [
    "# Векторы"
   ]
  },
  {
   "cell_type": "code",
   "execution_count": 36,
   "metadata": {},
   "outputs": [
    {
     "data": {
      "text/plain": [
       "28.0"
      ]
     },
     "execution_count": 36,
     "metadata": {},
     "output_type": "execute_result"
    }
   ],
   "source": [
    "import numpy as np\n",
    "\n",
    "vec1 = np.array([2, 4, 7, 2.5])\n",
    "vec2 = np.array([12, 6, 3.6, 13])\n",
    "vec1 + vec2 # сложение элементов векторов (в отличие от объединения списков)\n",
    "vec1 > vec2 # сравнение поэлементно\n",
    "vec1 <= 6\n",
    "length1 = np.sqrt(np.sum(vec1 ** 2)) # длина вектора - корень из суммы квадратов всех его координат\n",
    "length2 = np.linalg.norm(vec2) # модуль с операциями из линейной алгебры\n",
    "distance1 = np.sqrt(np.sum((vec1 - vec2) ** 2)) # расстояние между векторами - корень из суммы квадратов разностей координат\n",
    "distance2 = np.linalg.norm(vec1 - vec2)\n",
    "scalar_product1 = np.sum(vec1 * vec2) # скалярное произведение векторов - сумма произведений координат\n",
    "scalar_product2 = np.dot(vec1, vec2)\n",
    "\n",
    "x = np.array([25, 0])\n",
    "y = np.array([0, 10])\n",
    "np.dot(x, y) # равенство скалярного произведения 0 означает перпендикулярность векторов\n",
    "\n",
    "a = np.array([23, 34, 27])\n",
    "c = np.array([46, 68, 54])\n",
    "np.linalg.norm(a) + np.linalg.norm(c) == np.linalg.norm(a+c) # сонаправленность векторов - сумм длин равна длине суммы\n",
    "\n",
    "a.min()\n",
    "np.max(c)\n",
    "a.mean() # среднее"
   ]
  }
 ],
 "metadata": {
  "interpreter": {
   "hash": "49761ee4a4f5e7b89ab963a7b7a1a526865aa0dcf706c827f170f39ed3baa10b"
  },
  "kernelspec": {
   "display_name": "Python 3.9.10 64-bit",
   "language": "python",
   "name": "python3"
  },
  "language_info": {
   "codemirror_mode": {
    "name": "ipython",
    "version": 3
   },
   "file_extension": ".py",
   "mimetype": "text/x-python",
   "name": "python",
   "nbconvert_exporter": "python",
   "pygments_lexer": "ipython3",
   "version": "3.9.10"
  },
  "orig_nbformat": 4
 },
 "nbformat": 4,
 "nbformat_minor": 2
}
