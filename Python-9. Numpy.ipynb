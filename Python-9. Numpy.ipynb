{
 "cells": [
  {
   "cell_type": "code",
   "execution_count": 18,
   "metadata": {},
   "outputs": [
    {
     "name": "stdout",
     "output_type": "stream",
     "text": [
      "0\n"
     ]
    }
   ],
   "source": [
    "import numpy as np\n",
    "a = np.int8(25) # целочисленный типа данных\n",
    "np.iinfo(a)\n",
    "b = np.uint8(124) # беззнаковый целочисленный типа данных\n",
    "np.iinfo(b)\n",
    "с = np.float16 # число с плавающей точкой, resolution - точность, с которой сохраняется десятая часть\n",
    "np.finfo(с)\n",
    "#print(bool(True) == np.bool_(True))\n",
    "#print(type(bool(True)) == type(np.bool_(True)))\n",
    "\n",
    "#2021 == 2.021*10**3 == 2.021e+3\n",
    "\n",
    "np.uint8()\n"
   ]
  }
 ],
 "metadata": {
  "interpreter": {
   "hash": "49761ee4a4f5e7b89ab963a7b7a1a526865aa0dcf706c827f170f39ed3baa10b"
  },
  "kernelspec": {
   "display_name": "Python 3.9.10 64-bit",
   "language": "python",
   "name": "python3"
  },
  "language_info": {
   "codemirror_mode": {
    "name": "ipython",
    "version": 3
   },
   "file_extension": ".py",
   "mimetype": "text/x-python",
   "name": "python",
   "nbconvert_exporter": "python",
   "pygments_lexer": "ipython3",
   "version": "3.9.10"
  },
  "orig_nbformat": 4
 },
 "nbformat": 4,
 "nbformat_minor": 2
}
