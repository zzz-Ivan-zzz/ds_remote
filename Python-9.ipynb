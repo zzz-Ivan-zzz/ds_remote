{
 "cells": [
  {
   "cell_type": "markdown",
   "metadata": {},
   "source": [
    "# Counter"
   ]
  },
  {
   "cell_type": "code",
   "execution_count": 63,
   "metadata": {},
   "outputs": [
    {
     "name": "stdout",
     "output_type": "stream",
     "text": [
      "Counter({'black': 2, 'yellow': 1})\n",
      "Counter({'black': 6, 'white': 5, 'yellow': 5, 'red': 2})\n",
      "black black black black white white yellow yellow yellow\n",
      "['black', 'white', 'yellow']\n",
      "{'black': 4, 'white': 2, 'yellow': 3}\n",
      "[('black', 4), ('yellow', 3), ('white', 2)]\n",
      "[('black', 4), ('yellow', 3)]\n",
      "Counter({'black': 4, 'yellow': 3, 'white': 2})\n"
     ]
    }
   ],
   "source": [
    "from collections import Counter\n",
    "\n",
    "cars_moscow = ['black', 'black', 'white', 'black', 'black', 'white', 'yellow', 'yellow', 'yellow']\n",
    "cars_spb = ['red', 'black', 'black', 'white', 'white', 'yellow', 'yellow', 'red', 'white']\n",
    "\n",
    "counter_moscow = Counter(cars_moscow)\n",
    "counter_spb = Counter(cars_spb)\n",
    "\n",
    "print(counter_moscow - counter_spb) # выводится только положительная разница\n",
    "print(counter_moscow + counter_spb) \n",
    "#counter_moscow.subtract(counter_spb) # выводится в том числе отрицательная разница\n",
    "\n",
    "print(*counter_moscow.elements()) # элементы возвращаются в алфавитном порядке\n",
    "\n",
    "print(list(counter_moscow))\n",
    "print(dict(counter_moscow))\n",
    "\n",
    "print(counter_moscow.most_common(2)) # первые Х элементов из списка в порядке убывания\n",
    "#counter_moscow.clear()"
   ]
  },
  {
   "cell_type": "markdown",
   "metadata": {},
   "source": [
    "# DefaultDict"
   ]
  },
  {
   "cell_type": "code",
   "execution_count": 71,
   "metadata": {},
   "outputs": [
    {
     "name": "stdout",
     "output_type": "stream",
     "text": [
      "['Nikitina', 'Pavlov']\n",
      "[]\n",
      "defaultdict(<class 'list'>, {1: ['Ivanov', 'Kuznetsova'], 4: ['Smirnov'], 3: ['Petrov', 'Markov'], 2: ['Nikitina', 'Pavlov'], '2021': []})\n"
     ]
    }
   ],
   "source": [
    "students = [('Ivanov',1),('Smirnov',4),('Petrov',3),('Kuznetsova',1), ('Nikitina',2),('Markov',3),('Pavlov',2)]\n",
    "\n",
    "from collections import defaultdict\n",
    "\n",
    "groups = defaultdict(list) # указание на класс объекта, а не создание нового объекта, поэтому без ()\n",
    "\n",
    "for student, group in students:\n",
    "    groups[group].append(student)\n",
    " \n",
    "print(groups[2])\n",
    "print(groups['2021']) # создается пустой элемент в словаре\n",
    "print(groups)"
   ]
  },
  {
   "cell_type": "markdown",
   "metadata": {},
   "source": [
    "# OrderedDict"
   ]
  },
  {
   "cell_type": "code",
   "execution_count": 72,
   "metadata": {},
   "outputs": [
    {
     "name": "stdout",
     "output_type": "stream",
     "text": [
      "OrderedDict([('Ivan', 19), ('Mark', 25), ('Andrey', 23), ('Maria', 20)])\n",
      "OrderedDict([('Andrey', 23), ('Ivan', 19), ('Maria', 20), ('Mark', 25)])\n",
      "OrderedDict([('Andrey', 23), ('Ivan', 19), ('Maria', 20), ('Mark', 25), ('Nikita', 18)])\n",
      "OrderedDict([('Ivan', 19), ('Maria', 20), ('Mark', 25), ('Nikita', 18)])\n"
     ]
    }
   ],
   "source": [
    "from collections import OrderedDict\n",
    "\n",
    "data = [('Ivan', 19),('Mark', 25),('Andrey', 23),('Maria', 20)]\n",
    "\n",
    "ordered_client_ages = OrderedDict(data) # выдает ключи в порядке их сохранения\n",
    "print(ordered_client_ages)\n",
    "\n",
    "ordered_client_ages = OrderedDict(sorted(data, key=lambda x: x[0])) # сортировка по второму элементу кортежа\n",
    "print(ordered_client_ages)\n",
    "\n",
    "ordered_client_ages['Nikita'] = 18 # новый элемент окажется в конце словаря\n",
    "print(ordered_client_ages)\n",
    "\n",
    "del ordered_client_ages['Andrey'] # удаление элемента\n",
    "print(ordered_client_ages)"
   ]
  },
  {
   "cell_type": "markdown",
   "metadata": {},
   "source": [
    "# Deque"
   ]
  },
  {
   "cell_type": "code",
   "execution_count": 101,
   "metadata": {},
   "outputs": [
    {
     "name": "stdout",
     "output_type": "stream",
     "text": [
      "First client: Ivanov\n",
      "Smirnov left the queue\n",
      "deque(['vip-client', 'Tikhonova'])\n",
      "deque(['vip-client', 'Tikhonova', 'New1', 'New2', 'New3'])\n",
      "deque(['boss2', 'boss1', 'vip-client', 'Tikhonova', 'New1', 'New2', 'New3'])\n"
     ]
    }
   ],
   "source": [
    "from collections import deque\n",
    "\n",
    "clients = ['Ivanov','Petrov', 'Tikhonova']\n",
    "clients = deque(clients)\n",
    "clients.append('Smirnov') # добавление в конец очереди\n",
    "\n",
    "first_client = clients.popleft() # удаление из начала очереди в переменную\n",
    "print(\"First client:\", first_client)\n",
    "\n",
    "clients.appendleft('vip-client') # добавление в начало очереди\n",
    "\n",
    "tired_client = clients.pop() # удаление из конца очереди в переменную\n",
    "print(tired_client, \"left the queue\")\n",
    "\n",
    "del clients[1] # удаление элемента по индексу\n",
    "print(clients)\n",
    "\n",
    "new_list = ['New1','New2', 'New3']\n",
    "clients.extend(new_list) # добавление сразу нескольких элементов в конец очереди\n",
    "print(clients)\n",
    "\n",
    "boss_list = ['boss1','boss2']\n",
    "clients.extendleft(boss_list) # аналогично многократному применению appendleft, поэтому порядок добавления элементов обратный\n",
    "print(clients)\n",
    "\n"
   ]
  }
 ],
 "metadata": {
  "interpreter": {
   "hash": "49761ee4a4f5e7b89ab963a7b7a1a526865aa0dcf706c827f170f39ed3baa10b"
  },
  "kernelspec": {
   "display_name": "Python 3.9.10 64-bit",
   "language": "python",
   "name": "python3"
  },
  "language_info": {
   "codemirror_mode": {
    "name": "ipython",
    "version": 3
   },
   "file_extension": ".py",
   "mimetype": "text/x-python",
   "name": "python",
   "nbconvert_exporter": "python",
   "pygments_lexer": "ipython3",
   "version": "3.9.10"
  },
  "orig_nbformat": 4
 },
 "nbformat": 4,
 "nbformat_minor": 2
}
