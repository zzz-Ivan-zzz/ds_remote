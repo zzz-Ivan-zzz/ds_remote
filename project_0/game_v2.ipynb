{
 "cells": [
  {
   "cell_type": "code",
   "execution_count": 8,
   "metadata": {},
   "outputs": [
    {
     "name": "stdout",
     "output_type": "stream",
     "text": [
      "Количество попыток: 7\n",
      "Ваш алгоритм угадывает число в среднем за: 5 попыток\n"
     ]
    },
    {
     "data": {
      "text/plain": [
       "5"
      ]
     },
     "execution_count": 8,
     "metadata": {},
     "output_type": "execute_result"
    }
   ],
   "source": [
    "import numpy as np\n",
    "\n",
    "def random_predict(min = 1,max = 101) -> int:\n",
    "\n",
    "    number = np.random.randint(min, max)\n",
    "    count = 0\n",
    "\n",
    "    while True:\n",
    "        if number == 1: break\n",
    "        count+=1\n",
    "        mid = round((min+max) / 2)\n",
    "        if mid > number:\n",
    "            max = mid\n",
    "        elif mid < number:\n",
    "            min = mid\n",
    "        else: break \n",
    "    \n",
    "    return(count)\n",
    "\n",
    "print(f'Количество попыток: {random_predict()}')\n",
    "\n",
    "def score_game(random_predict) -> int:\n",
    "\n",
    "    count_ls = []\n",
    "    \n",
    "    for number in range(1,1001):\n",
    "        count_ls.append(random_predict())\n",
    "\n",
    "    score = int(np.mean(count_ls))\n",
    "\n",
    "    print(f'Ваш алгоритм угадывает число в среднем за: {score} попыток')\n",
    "    \n",
    "    return(score)\n",
    "\n",
    "score_game(random_predict)\n"
   ]
  }
 ],
 "metadata": {
  "interpreter": {
   "hash": "49761ee4a4f5e7b89ab963a7b7a1a526865aa0dcf706c827f170f39ed3baa10b"
  },
  "kernelspec": {
   "display_name": "Python 3.9.10 64-bit",
   "language": "python",
   "name": "python3"
  },
  "language_info": {
   "codemirror_mode": {
    "name": "ipython",
    "version": 3
   },
   "file_extension": ".py",
   "mimetype": "text/x-python",
   "name": "python",
   "nbconvert_exporter": "python",
   "pygments_lexer": "ipython3",
   "version": "3.9.10"
  },
  "orig_nbformat": 4
 },
 "nbformat": 4,
 "nbformat_minor": 2
}
