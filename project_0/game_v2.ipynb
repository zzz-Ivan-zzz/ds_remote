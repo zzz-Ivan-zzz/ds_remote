{
 "cells": [
  {
   "cell_type": "code",
   "execution_count": 1,
   "metadata": {},
   "outputs": [
    {
     "name": "stdout",
     "output_type": "stream",
     "text": [
      "Количество попыток: 5\n",
      "Ваш алгоритм угадывает число в среднем за: 5 попыток\n"
     ]
    },
    {
     "data": {
      "text/plain": [
       "5"
      ]
     },
     "execution_count": 1,
     "metadata": {},
     "output_type": "execute_result"
    }
   ],
   "source": [
    "import numpy as np\n",
    "\n",
    "def random_predict(min = 1,max = 101) -> int:\n",
    "    \"\"\"Угадывает рандомное число из указанного в аргументах диапазона\n",
    "       Логика: постепенное сужение диапазона на каждом шаге цикла\n",
    "\n",
    "    Args:\n",
    "        min (int, optional): Начало диапазона. Defaults to 1.\n",
    "        max (int, optional): Конец диапазона. Defaults to 101.\n",
    "\n",
    "    Returns:\n",
    "        int: Количество попыток, за которые было угадано число\n",
    "    \"\"\"\n",
    "\n",
    "    number = np.random.randint(min, max) # загаданное число\n",
    "    count = 0\n",
    "\n",
    "    while True:\n",
    "        if number == 1: break # исключение, если загадана единица, т.к. в этом случае функция работает некорректно\n",
    "        count+=1\n",
    "        mid = round((min+max) / 2) # диапазон сужается в два раза, рассчитывая среднюю между верхней и нижней границами\n",
    "        if mid > number: # если загаданное число меньше средней, верхная граница диапазона приравнивается к средней\n",
    "            max = mid\n",
    "        elif mid < number: \n",
    "            min = mid # если число больше средней, нижняя граница сдвигается вверх\n",
    "        else: break \n",
    "    \n",
    "    return(count)\n",
    "\n",
    "print(f'Количество попыток: {random_predict()}')\n",
    "\n",
    "def score_game(random_predict) -> int:\n",
    "    \"\"\"Расчет среднего количества попыток для угадывания на основании 1000 прогонов\n",
    "\n",
    "    Args:\n",
    "        random_predict (_type_): функция угадывания\n",
    "\n",
    "    Returns:\n",
    "        int: среднее количество попыток\n",
    "    \"\"\"\n",
    "\n",
    "    count_ls = []\n",
    "    \n",
    "    for number in range(1,1001):\n",
    "        count_ls.append(random_predict()) # наполнение списка количествами попыток угадывания из каждого прогона\n",
    "\n",
    "    score = int(np.mean(count_ls))\n",
    "\n",
    "    print(f'Ваш алгоритм угадывает число в среднем за: {score} попыток')\n",
    "    \n",
    "    return(score)\n",
    "\n",
    "score_game(random_predict) \n"
   ]
  }
 ],
 "metadata": {
  "interpreter": {
   "hash": "49761ee4a4f5e7b89ab963a7b7a1a526865aa0dcf706c827f170f39ed3baa10b"
  },
  "kernelspec": {
   "display_name": "Python 3.9.10 64-bit",
   "language": "python",
   "name": "python3"
  },
  "language_info": {
   "codemirror_mode": {
    "name": "ipython",
    "version": 3
   },
   "file_extension": ".py",
   "mimetype": "text/x-python",
   "name": "python",
   "nbconvert_exporter": "python",
   "pygments_lexer": "ipython3",
   "version": "3.9.10"
  },
  "orig_nbformat": 4
 },
 "nbformat": 4,
 "nbformat_minor": 2
}
