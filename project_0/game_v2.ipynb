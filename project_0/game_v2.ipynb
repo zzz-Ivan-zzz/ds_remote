{
 "cells": [
  {
   "cell_type": "code",
   "execution_count": 18,
   "metadata": {},
   "outputs": [
    {
     "ename": "SyntaxError",
     "evalue": "invalid syntax (3266197707.py, line 20)",
     "output_type": "error",
     "traceback": [
      "\u001b[1;36m  Input \u001b[1;32mIn [18]\u001b[1;36m\u001b[0m\n\u001b[1;33m    def score_game(random_predict()) -> int:\u001b[0m\n\u001b[1;37m                                 ^\u001b[0m\n\u001b[1;31mSyntaxError\u001b[0m\u001b[1;31m:\u001b[0m invalid syntax\n"
     ]
    }
   ],
   "source": [
    "import numpy as np\n",
    "\n",
    "def random_predict(min = 1,max = 101) -> int:\n",
    "\n",
    "    number = np.random.randint(min, max)\n",
    "    count = 0\n",
    "\n",
    "    while True:\n",
    "        count+=1\n",
    "        mid = round((min+max) / 2)\n",
    "        if mid > number:\n",
    "            max = mid\n",
    "        elif mid < number:\n",
    "            min = mid\n",
    "        else:\n",
    "            break \n",
    "    return(count)\n",
    "print(f'Количество попыток: {random_predict()}')\n",
    "\n",
    "def score_game(random_predict) -> int:\n",
    "\n",
    "    count_ls = []\n",
    "    np.random.seed(1) \n",
    "    random_array = np.random.randint(1, 101, size=(100))\n",
    "\n",
    "    for number in random_array:\n",
    "        count_ls.append(random_predict())\n",
    "\n",
    "    score = int(np.mean(count_ls))\n",
    "\n",
    "    print(f'Ваш алгоритм угадывает число в среднем за: {score} попыток')\n",
    "    return(score)\n",
    "\n",
    "score_game(random_predict)\n"
   ]
  }
 ],
 "metadata": {
  "interpreter": {
   "hash": "49761ee4a4f5e7b89ab963a7b7a1a526865aa0dcf706c827f170f39ed3baa10b"
  },
  "kernelspec": {
   "display_name": "Python 3.9.10 64-bit",
   "language": "python",
   "name": "python3"
  },
  "language_info": {
   "codemirror_mode": {
    "name": "ipython",
    "version": 3
   },
   "file_extension": ".py",
   "mimetype": "text/x-python",
   "name": "python",
   "nbconvert_exporter": "python",
   "pygments_lexer": "ipython3",
   "version": "3.9.10"
  },
  "orig_nbformat": 4
 },
 "nbformat": 4,
 "nbformat_minor": 2
}
